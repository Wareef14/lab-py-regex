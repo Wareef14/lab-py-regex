{
  "cells": [
    {
      "cell_type": "markdown",
      "metadata": {
        "id": "M0Z1Hw4Kycqg"
      },
      "source": [
        "# LAB | Regular Expressions (Regex) in Python"
      ]
    },
    {
      "cell_type": "markdown",
      "metadata": {
        "id": "Uvafr6Ahycqh"
      },
      "source": [
        "## Overview\n",
        "This exercise notebook will help you practice using regular expressions in Python. Regular expressions are powerful tools for matching patterns in strings, which can be useful for validation, searching, and data manipulation.\n",
        "\n",
        "## Instructions\n",
        "- Complete each exercise by writing the appropriate regex pattern and Python code in the provided space.\n",
        "- Test your code to ensure it works as expected.\n",
        "<!-- - Use the hints provided if you get stuck. -->"
      ]
    },
    {
      "cell_type": "markdown",
      "metadata": {
        "id": "mAu52yYvycqi"
      },
      "source": [
        "### Exercise 1: Match Email Addresses\n",
        "Write a regex pattern to match valid email addresses. An email address should contain an '@' symbol and a domain."
      ]
    },
    {
      "cell_type": "code",
      "source": [
        "# i put the reule based on the valid domain in my country which is between 2 to 3 chracter :)\n",
        "import re\n",
        "\n",
        "# Example Saudi email addresses\n",
        "emails = [\n",
        "    \"user@example.sa\",\n",
        "    \"info@company.com.sa\",\n",
        "    \"admin@school.sch.sa\",\n",
        "    \"test@ministry.gov.sa\",\n",
        "    \"invalid@example.comm\",  # Invalid\n",
        "    \"user@random.xyz\"  # Invalid\n",
        "]\n",
        "\n",
        "# Regex pattern for Saudi domains\n",
        "pattern = r\"^[a-zA-Z0-9._%+-]+@[a-zA-Z0-9.-]+\\.[a-zA-Z]{2,3}(\\.sa)?$\"\n",
        "\n",
        "# Test the regex\n",
        "for email in emails:\n",
        "    if re.match(pattern, email):\n",
        "        print(f\"Valid: {email}\")\n",
        "    else:\n",
        "        print(f\"Invalid: {email}\")\n"
      ],
      "metadata": {
        "colab": {
          "base_uri": "https://localhost:8080/"
        },
        "id": "keRn5nPc1UVD",
        "outputId": "682e5e7d-adaa-48dc-cbf9-38c2a847ab67"
      },
      "execution_count": 20,
      "outputs": [
        {
          "output_type": "stream",
          "name": "stdout",
          "text": [
            "Valid: user@example.sa\n",
            "Valid: info@company.com.sa\n",
            "Valid: admin@school.sch.sa\n",
            "Valid: test@ministry.gov.sa\n",
            "Invalid: invalid@example.comm\n",
            "Valid: user@random.xyz\n"
          ]
        }
      ]
    },
    {
      "cell_type": "markdown",
      "metadata": {
        "id": "53fBY5WIycqj"
      },
      "source": [
        "### Exercise 2: Validate Phone Numbers\n",
        "Create a regex pattern to validate phone numbers in the format (123) 456-7890 or 123-456-7890."
      ]
    },
    {
      "cell_type": "code",
      "execution_count": 21,
      "metadata": {
        "colab": {
          "base_uri": "https://localhost:8080/"
        },
        "id": "Uj2BF97oycqj",
        "outputId": "447c7478-217a-4fd5-a7be-95f89d043d18"
      },
      "outputs": [
        {
          "output_type": "stream",
          "name": "stdout",
          "text": [
            "Valid phone number\n"
          ]
        }
      ],
      "source": [
        "import re\n",
        "\n",
        "# Example input\n",
        "phone_number = \"(123) 456-7890\"\n",
        "\n",
        "# Your regex pattern here\n",
        "pattern = r\"^\\(?\\d{3}\\)?[- ]?\\d{3}[- ]\\d{4}$\"\n",
        "\n",
        "# Test the regex\n",
        "if re.match(pattern, phone_number):\n",
        "    print(\"Valid phone number\")\n",
        "else:\n",
        "    print(\"Invalid phone number\")"
      ]
    },
    {
      "cell_type": "markdown",
      "metadata": {
        "id": "yZ5Nd2AGycqj"
      },
      "source": [
        "### Exercise 3: Extract Dates\n",
        "Write a regex pattern to extract dates in the format YYYY-MM-DD from a string."
      ]
    },
    {
      "cell_type": "code",
      "execution_count": 22,
      "metadata": {
        "colab": {
          "base_uri": "https://localhost:8080/"
        },
        "id": "1fArpYLcycqk",
        "outputId": "43a08d06-f7a2-4cdb-89e9-a3d2e4888400"
      },
      "outputs": [
        {
          "output_type": "stream",
          "name": "stdout",
          "text": [
            "['2024-12-25']\n"
          ]
        }
      ],
      "source": [
        "import re\n",
        "\n",
        "# Example input\n",
        "text = \"The event is scheduled for 2024-12-25.\"\n",
        "\n",
        "# Your regex pattern here\n",
        "pattern = r\"\\b\\d{4}-\\d{2}-\\d{2}\\b\"\n",
        "\n",
        "# Find all matches\n",
        "dates = re.findall(pattern, text)\n",
        "print(dates)"
      ]
    },
    {
      "cell_type": "markdown",
      "metadata": {
        "id": "6v8tgaBwycqk"
      },
      "source": [
        "### Exercise 4: Match URLs\n",
        "Create a regex pattern to match URLs that start with http:// or https://."
      ]
    },
    {
      "cell_type": "code",
      "execution_count": 23,
      "metadata": {
        "colab": {
          "base_uri": "https://localhost:8080/"
        },
        "id": "zlVYmqbIycqk",
        "outputId": "2b73558c-f189-43a6-9483-b24a288308e4"
      },
      "outputs": [
        {
          "output_type": "stream",
          "name": "stdout",
          "text": [
            "Valid URL\n"
          ]
        }
      ],
      "source": [
        "import re\n",
        "\n",
        "# Example input\n",
        "url = \"https://www.example.com\"\n",
        "\n",
        "# Your regex pattern here\n",
        "pattern = r\"https?://[a-zA-Z0-9.-]+(?:\\.[a-zA-Z]{2,})+(?:/[^\\s]*)?\"\n",
        "\n",
        "# Test the regex\n",
        "if re.match(pattern, url):\n",
        "    print(\"Valid URL\")\n",
        "else:\n",
        "    print(\"Invalid URL\")"
      ]
    },
    {
      "cell_type": "markdown",
      "metadata": {
        "id": "6B71JYzDycqk"
      },
      "source": [
        "### Exercise 5: Find Words Starting with a Specific Letter\n",
        "Write a regex pattern to find all words starting with the letter 'a' in a given string."
      ]
    },
    {
      "cell_type": "code",
      "execution_count": 24,
      "metadata": {
        "colab": {
          "base_uri": "https://localhost:8080/"
        },
        "id": "qU3A2DoCycqk",
        "outputId": "c21990a6-6f6e-49fc-ddb9-7aefea75aed4"
      },
      "outputs": [
        {
          "output_type": "stream",
          "name": "stdout",
          "text": [
            "['A', 'a']\n"
          ]
        }
      ],
      "source": [
        "import re\n",
        "\n",
        "# Example input\n",
        "text = \"A quick brown fox jumps over a lazy dog.\"\n",
        "\n",
        "# Your regex pattern here\n",
        "pattern = r\"\\b[aA]\\w*\"\n",
        "\n",
        "# Find all matches\n",
        "words = re.findall(pattern, text)\n",
        "print(words)"
      ]
    },
    {
      "cell_type": "markdown",
      "metadata": {
        "id": "pgvrC-c_ycqk"
      },
      "source": [
        "### Exercise 6: Match Hexadecimal Colors\n",
        "Create a regex pattern to match hexadecimal color codes (e.g., #FFFFFF)."
      ]
    },
    {
      "cell_type": "code",
      "execution_count": 25,
      "metadata": {
        "colab": {
          "base_uri": "https://localhost:8080/"
        },
        "id": "RdxX0r0wycql",
        "outputId": "f95fe200-f546-4161-9d83-11532adbc38a"
      },
      "outputs": [
        {
          "output_type": "stream",
          "name": "stdout",
          "text": [
            "Valid hex color code\n"
          ]
        }
      ],
      "source": [
        "import re\n",
        "\n",
        "# Example input\n",
        "color_code = \"#FFFFFF\"\n",
        "\n",
        "# Your regex pattern here\n",
        "pattern = r\"^#([A-Fa-f0-9]{6}|[A-Fa-f0-9]{3})$\"\n",
        "\n",
        "# Test the regex\n",
        "if re.match(pattern, color_code):\n",
        "    print(\"Valid hex color code\")\n",
        "else:\n",
        "    print(\"Invalid hex color code\")"
      ]
    },
    {
      "cell_type": "markdown",
      "metadata": {
        "id": "DouoeIsEycql"
      },
      "source": [
        "### Exercise 7: Validate Passwords\n",
        "Write a regex pattern to validate passwords that must be at least 8 characters long and contain at least one uppercase letter, one lowercase letter, one digit, and one special character."
      ]
    },
    {
      "cell_type": "code",
      "execution_count": 26,
      "metadata": {
        "colab": {
          "base_uri": "https://localhost:8080/"
        },
        "id": "KqEiCCWOycql",
        "outputId": "e124801a-c86b-4a4a-8fe9-0d695571b560"
      },
      "outputs": [
        {
          "output_type": "stream",
          "name": "stdout",
          "text": [
            "Valid password\n"
          ]
        }
      ],
      "source": [
        "import re\n",
        "\n",
        "# Example input\n",
        "password = \"Password123!\"\n",
        "\n",
        "# Your regex pattern here\n",
        "pattern = r\"^(?=.*[a-z])(?=.*[A-Z])(?=.*\\d)(?=.*[!@#$%^&*(),.?\\\":{}|<>]).{8,}$\"\n",
        "\n",
        "# Test the regex\n",
        "if re.match(pattern, password):\n",
        "    print(\"Valid password\")\n",
        "else:\n",
        "    print(\"Invalid password\")"
      ]
    },
    {
      "cell_type": "markdown",
      "metadata": {
        "id": "2wb1GUKQycql"
      },
      "source": [
        "### Exercise 8: Remove Extra Spaces\n",
        "Create a regex pattern that removes extra spaces from a string while keeping single spaces between words."
      ]
    },
    {
      "cell_type": "code",
      "execution_count": 43,
      "metadata": {
        "colab": {
          "base_uri": "https://localhost:8080/"
        },
        "id": "_SJvbMijycql",
        "outputId": "ca2ee9ac-690f-4bfb-f00f-41218039e946"
      },
      "outputs": [
        {
          "output_type": "stream",
          "name": "stdout",
          "text": [
            "This is an example.\n"
          ]
        }
      ],
      "source": [
        "import re\n",
        "\n",
        "# Example input\n",
        "text = \"This   is   an   example.\"\n",
        "\n",
        "# Regex pattern to match extra spaces\n",
        "pattern = r\"\\s{2,}\"\n",
        "\n",
        "# Replace extra spaces with a single space\n",
        "cleaned_text = re.sub(pattern,\" \", text).strip()\n",
        "\n",
        "# Print the cleaned text\n",
        "print(cleaned_text)"
      ]
    },
    {
      "cell_type": "markdown",
      "metadata": {
        "id": "nhdztIyIycql"
      },
      "source": [
        "### Exercise 9: Match IP Addresses\n",
        "Write a regex pattern to match valid IPv4 addresses."
      ]
    },
    {
      "cell_type": "code",
      "execution_count": 44,
      "metadata": {
        "colab": {
          "base_uri": "https://localhost:8080/"
        },
        "id": "pFnMHFhiycql",
        "outputId": "122c8743-6eee-45b7-da9c-1e353c9f7cb1"
      },
      "outputs": [
        {
          "output_type": "stream",
          "name": "stdout",
          "text": [
            "Valid IP address\n"
          ]
        }
      ],
      "source": [
        "import re\n",
        "\n",
        "# Example input\n",
        "ip_address = \"192.168.1.1\"\n",
        "\n",
        "# Your regex pattern here\n",
        "pattern = r\"^(25[0-5]|2[0-4][0-9]|[01]?[0-9][0-9]?)\\.(25[0-5]|2[0-4][0-9]|[01]?[0-9][0-9]?)\\.(25[0-5]|2[0-4][0-9]|[01]?[0-9][0-9]?)\\.(25[0-5]|2[0-4][0-9]|[01]?[0-9][0-9]?)$\"\n",
        "\n",
        "# Test the regex\n",
        "if re.match(pattern, ip_address):\n",
        "    print(\"Valid IP address\")\n",
        "else:\n",
        "    print(\"Invalid IP address\")"
      ]
    },
    {
      "cell_type": "markdown",
      "metadata": {
        "id": "kmpVxftAycql"
      },
      "source": [
        "### Exercise 10: Extract Hashtags\n",
        "Create a regex pattern to extract hashtags from a string."
      ]
    },
    {
      "cell_type": "code",
      "execution_count": 29,
      "metadata": {
        "colab": {
          "base_uri": "https://localhost:8080/"
        },
        "id": "okTf14FNycql",
        "outputId": "a606b69c-731d-48f8-a951-0a7df640efa0"
      },
      "outputs": [
        {
          "output_type": "stream",
          "name": "stdout",
          "text": [
            "['', '', '', '', '', '', '', '', '', '', '', '', '', '', '', '', '', '', '', '', '', '', '', '', '', '', '', '', '', '', '', '', '', '', '', '', '', '', '', '', '', '', '', '', '', '', '', '']\n"
          ]
        }
      ],
      "source": [
        "import re\n",
        "\n",
        "# Example input\n",
        "text = \"Here are some hashtags: #Python #Regex #Coding.\"\n",
        "\n",
        "# Your regex pattern here\n",
        "pattern = r\"\"\n",
        "\n",
        "# Find all matches\n",
        "hashtags = re.findall(pattern, text)\n",
        "print(hashtags)"
      ]
    },
    {
      "cell_type": "markdown",
      "metadata": {
        "id": "EtiORDbBycqm"
      },
      "source": [
        "## Bonus Exercises\n"
      ]
    },
    {
      "cell_type": "markdown",
      "metadata": {
        "id": "IGjqb3iCycqm"
      },
      "source": [
        "\n",
        "### Bonus Exercise 1: Match All Digits\n",
        "Write a regex pattern to match all digits in a given string."
      ]
    },
    {
      "cell_type": "code",
      "execution_count": 30,
      "metadata": {
        "colab": {
          "base_uri": "https://localhost:8080/"
        },
        "id": "cuGBsoPAycqm",
        "outputId": "472719c8-9c86-43b1-a9b5-5fbc41237367"
      },
      "outputs": [
        {
          "output_type": "stream",
          "name": "stdout",
          "text": [
            "['', '', '', '', '', '', '', '', '', '', '', '', '', '', '', '', '', '', '', '', '', '', '', '', '', '', '', '', '', '', '', '', '', '']\n"
          ]
        }
      ],
      "source": [
        "import re\n",
        "\n",
        "# Example input\n",
        "text = \"There are 2 apples and 3 oranges.\"\n",
        "\n",
        "# Your regex pattern here\n",
        "pattern = r\"\"\n",
        "\n",
        "# Find all matches\n",
        "digits = re.findall(pattern, text)\n",
        "print(digits)"
      ]
    },
    {
      "cell_type": "markdown",
      "metadata": {
        "id": "zsRu5AGkycqm"
      },
      "source": [
        "### Bonus Exercise 2: Validate Credit Card Numbers  \n",
        "Create a regex pattern to validate credit card numbers (16 digits)."
      ]
    },
    {
      "cell_type": "code",
      "execution_count": 31,
      "metadata": {
        "colab": {
          "base_uri": "https://localhost:8080/"
        },
        "id": "_02Dk4e3ycqm",
        "outputId": "96fb6b69-a3b7-438c-de88-1e25233b09f9"
      },
      "outputs": [
        {
          "output_type": "stream",
          "name": "stdout",
          "text": [
            "Valid credit card number\n"
          ]
        }
      ],
      "source": [
        "import re\n",
        "\n",
        "# Example input\n",
        "credit_card_number = \"1234-5678-9876-5432\"\n",
        "\n",
        "# Your regex pattern here\n",
        "pattern = r\"\"\n",
        "\n",
        "# Test the regex\n",
        "if re.match(pattern, credit_card_number):\n",
        "    print(\"Valid credit card number\")\n",
        "else:\n",
        "    print(\"Invalid credit card number\")"
      ]
    },
    {
      "cell_type": "markdown",
      "metadata": {
        "id": "LUWhIHICycqm"
      },
      "source": [
        "### Bonus Exercise 3: Match Non-Alphanumeric Characters  \n",
        "Write a regex pattern to match non-alphanumeric characters in a string."
      ]
    },
    {
      "cell_type": "code",
      "execution_count": 45,
      "metadata": {
        "colab": {
          "base_uri": "https://localhost:8080/"
        },
        "id": "VvUvLSRkycqm",
        "outputId": "d5384822-8193-42e6-9e36-5c262825665f"
      },
      "outputs": [
        {
          "output_type": "stream",
          "name": "stdout",
          "text": [
            "['!', ' ', ' ', ' ', '?', ' ', '@', '.']\n"
          ]
        }
      ],
      "source": [
        "import re\n",
        "\n",
        "# Example input\n",
        "text = \"Hello! How are you? @Python3.\"\n",
        "\n",
        "# Your regex pattern here\n",
        "pattern = r\"[^a-zA-Z0-9]\"\n",
        "\n",
        "# Find all matches\n",
        "non_alphanumeric_chars = re.findall(pattern, text)\n",
        "print(non_alphanumeric_chars)"
      ]
    },
    {
      "cell_type": "markdown",
      "metadata": {
        "id": "Z9BWCZhUycqm"
      },
      "source": [
        "### Bonus Exercise 4: Validate Date Format  \n",
        "Create a regex pattern to validate dates in the format DD/MM/YYYY."
      ]
    },
    {
      "cell_type": "code",
      "execution_count": 46,
      "metadata": {
        "colab": {
          "base_uri": "https://localhost:8080/"
        },
        "id": "-Mzp-ebmycqm",
        "outputId": "b4214019-772f-46a8-ea06-b28ddabdbcb7"
      },
      "outputs": [
        {
          "output_type": "stream",
          "name": "stdout",
          "text": [
            "Valid date format\n"
          ]
        }
      ],
      "source": [
        "import re\n",
        "\n",
        "# Example input\n",
        "date_string = \"25/12/2024\"\n",
        "\n",
        "# Your regex pattern here\n",
        "pattern = r\"^(0[1-9]|[12][0-9]|3[01])/(0[1-9]|1[0-2])/\\d{4}$\"\n",
        "\n",
        "# Test the regex\n",
        "if re.match(pattern, date_string):\n",
        "    print(\"Valid date format\")\n",
        "else:\n",
        "    print(\"Invalid date format\")"
      ]
    },
    {
      "cell_type": "markdown",
      "metadata": {
        "id": "lKZYhiAEycqm"
      },
      "source": [
        "### Bonus Exercise 5: Extract Email Domains  \n",
        "Write a regex pattern to extract domains from email addresses."
      ]
    },
    {
      "cell_type": "code",
      "execution_count": 47,
      "metadata": {
        "colab": {
          "base_uri": "https://localhost:8080/"
        },
        "id": "Ij0jlyFhycqm",
        "outputId": "1b4c6597-8915-418b-be78-225d8dff1109"
      },
      "outputs": [
        {
          "output_type": "stream",
          "name": "stdout",
          "text": [
            "<re.Match object; span=(5, 16), match='example.com'>\n",
            "<re.Match object; span=(6, 16), match='domain.org'>\n"
          ]
        }
      ],
      "source": [
        "import re\n",
        "\n",
        "# Example input\n",
        "email_list = [\"user@example.com\", \"admin@domain.org\"]\n",
        "\n",
        "# Your regex pattern here\n",
        "pattern = r\"(?<=@)[a-zA-Z0-9.-]+\"\n",
        "\n",
        "for email in email_list:\n",
        "    domain = re.search(pattern, email)\n",
        "    if domain:\n",
        "        print(domain)  # Print extracted domain part."
      ]
    },
    {
      "cell_type": "markdown",
      "metadata": {
        "id": "7vukrmf_ycqn"
      },
      "source": [
        "### Exercise Completion  \n",
        "Once you have completed all exercises:\n",
        "- Review your solutions.\n",
        "- Ensure your regular expressions and Python code are well-documented with comments explaining your logic.\n",
        "- Save your notebook for submission or further review.\n",
        "\n",
        "Happy coding! Enjoy practicing Regular Expressions in Python!"
      ]
    }
  ],
  "metadata": {
    "kernelspec": {
      "display_name": "Python 3",
      "name": "python3"
    },
    "language_info": {
      "codemirror_mode": {
        "name": "ipython",
        "version": 3
      },
      "file_extension": ".py",
      "mimetype": "text/x-python",
      "name": "python",
      "nbconvert_exporter": "python",
      "pygments_lexer": "ipython3",
      "version": "3.8.0"
    },
    "colab": {
      "provenance": [],
      "machine_shape": "hm",
      "gpuType": "A100"
    },
    "accelerator": "GPU"
  },
  "nbformat": 4,
  "nbformat_minor": 0
}